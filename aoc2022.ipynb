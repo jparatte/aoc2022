{
 "cells": [
  {
   "cell_type": "markdown",
   "id": "427e2937",
   "metadata": {},
   "source": [
    "# AOC 2022\n",
    "\n",
    "Welcome to the Advent of Code 2022 !"
   ]
  },
  {
   "cell_type": "markdown",
   "id": "54252e1e",
   "metadata": {},
   "source": [
    "## Basic configuration"
   ]
  },
  {
   "cell_type": "code",
   "execution_count": null,
   "id": "b7473a09",
   "metadata": {},
   "outputs": [],
   "source": [
    "!pip install aocd"
   ]
  },
  {
   "cell_type": "code",
   "execution_count": null,
   "id": "d1a5c523",
   "metadata": {},
   "outputs": [],
   "source": [
    "import os\n",
    "\n",
    "os.environ['AOC_SESSION'] = open('session.txt').read().strip()\n",
    "\n",
    "from aocd import submit\n",
    "from aocd.models import Puzzle"
   ]
  },
  {
   "cell_type": "markdown",
   "id": "5f673214",
   "metadata": {},
   "source": [
    "## Day 15\n",
    "https://adventofcode.com/2022/day/15\n",
    "### Part 1"
   ]
  },
  {
   "cell_type": "code",
   "execution_count": null,
   "id": "6a17bf6e",
   "metadata": {},
   "outputs": [],
   "source": [
    "puzzle = Puzzle(2022, 15)\n",
    "lines = puzzle.input_data.split('\\n')"
   ]
  },
  {
   "cell_type": "code",
   "execution_count": null,
   "id": "e793725f",
   "metadata": {},
   "outputs": [],
   "source": [
    "import re\n",
    "\n",
    "class Sensor:\n",
    "    \n",
    "    def __init__(self, sx, sy, bx, by):\n",
    "        self.pos = (sx, sy)\n",
    "        self.beacon = (bx, by)\n",
    "        self.radius = l1(sx, sy, bx, by)\n",
    "        \n",
    "    def cover(self):\n",
    "        return self.pos[0]-self.radius, self.pos[1]-self.radius, self.pos[0]+self.radius, self.pos[1]+self.radius\n",
    "    \n",
    "    def corners(self):\n",
    "        return [(self.pos[0]-self.radius, self.pos[1]), (self.pos[0], self.pos[1]-self.radius), (self.pos[0]+self.radius, self.pos[1]), (self.pos[0], self.pos[1]+self.radius)]\n",
    "\n",
    "def parse(line):\n",
    "    def match(sub):\n",
    "        m = reg.match(sub)\n",
    "        return list(map(int, m.groups()))\n",
    "\n",
    "    s, b = line.split(':')\n",
    "    return *match(s), *match(b)\n",
    "    \n",
    "def l1(x0, y0, x1, y1):\n",
    "    return abs(x0-x1) + abs(y0 - y1)\n",
    "\n",
    "reg = re.compile(r\".*x=(-?\\d+), y=(-?\\d+)\")\n",
    "\n",
    "sensors = []\n",
    "\n",
    "for line in lines:\n",
    "    sx, sy, bx, by = parse(line)\n",
    "    sensors.append(Sensor(*parse(line)))"
   ]
  },
  {
   "cell_type": "code",
   "execution_count": null,
   "id": "eed9050d",
   "metadata": {},
   "outputs": [],
   "source": [
    "import numpy as np\n",
    "\n",
    "yp = 2000000\n",
    "\n",
    "xmin, xmax = min(s.cover()[0] for s in sensors), max(s.cover()[2] for s in sensors)\n",
    "\n",
    "probe = np.zeros((xmax-xmin+1, 2))\n",
    "probe[:,0] = range(xmin, xmax+1)\n",
    "probe[:,1] = yp\n",
    "\n",
    "sensing = np.array([False]*(xmax-xmin+1))\n",
    "\n",
    "for s in sensors:\n",
    "    sensing = np.logical_or(sensing, np.linalg.norm(probe - np.array([s.pos]*(xmax-xmin+1)), 1, axis=1) <= s.radius)\n",
    "answer_a = len(np.where(sensing == True)[0]) - len(set([s.beacon for s in sensors if s.beacon[1] == yp]))"
   ]
  },
  {
   "cell_type": "code",
   "execution_count": null,
   "id": "2ee80ea7",
   "metadata": {},
   "outputs": [],
   "source": [
    "puzzle.answer_a = answer_a"
   ]
  },
  {
   "cell_type": "markdown",
   "id": "f20409b9",
   "metadata": {},
   "source": [
    "### Part 2"
   ]
  },
  {
   "cell_type": "code",
   "execution_count": null,
   "id": "fad0ef79",
   "metadata": {},
   "outputs": [],
   "source": [
    "def line_intersection(line1, line2):\n",
    "    # https://stackoverflow.com/questions/20677795/how-do-i-compute-the-intersection-point-of-two-lines\n",
    "    xdiff = (line1[0][0] - line1[1][0], line2[0][0] - line2[1][0])\n",
    "    ydiff = (line1[0][1] - line1[1][1], line2[0][1] - line2[1][1])\n",
    "\n",
    "    def det(a, b):\n",
    "        return a[0] * b[1] - a[1] * b[0]\n",
    "\n",
    "    div = det(xdiff, ydiff)\n",
    "    if div == 0:\n",
    "        return None\n",
    "\n",
    "    d = (det(*line1), det(*line2))\n",
    "    x = det(d, xdiff) / div\n",
    "    y = det(d, ydiff) / div\n",
    "    return x, y\n",
    "\n",
    "def non_integer(coord):\n",
    "    ci = int(coord*10)\n",
    "    return (ci % 5 == 0) and (ci % 10 != 0)\n",
    "\n",
    "def grid_neighbors(x, y):\n",
    "    dx = 0.5 if non_integer(x) else 1.0\n",
    "    dy = 0.5 if non_integer(y) else 1.0\n",
    "    return set([(int(x+xi), int(y+yi)) for xi in [-dx, 0, dx] for yi in [-dy, 0, dy]]) - {(x, y)}\n",
    "\n",
    "def compute_intersections(sensors):\n",
    "    intersections = set()\n",
    "\n",
    "    for s0 in sensors:\n",
    "        for s1 in sensors:\n",
    "            c0 = s0.corners()\n",
    "            c1 = s1.corners()\n",
    "            c0.append(c0[0])\n",
    "            c1.append(c1[0])\n",
    "            for l0 in zip(c0[:-1], c0[1:]):\n",
    "                for l1 in zip(c1[:-1], c1[1:]):\n",
    "                    res = line_intersection(l0, l1)\n",
    "                    if res is not None:\n",
    "                        intersections.add(res)\n",
    "    return intersections\n",
    "\n",
    "def compute_neighbors(intersections, lx=4000000, ly=4000000):\n",
    "    neighbors = set()\n",
    "    for pt in intersections:\n",
    "        neighbors.update(grid_neighbors(*pt))\n",
    "        \n",
    "    return [(x, y) for x, y in neighbors if (0 <= x <= lx) and (0 <= y <= ly)]\n",
    "    \n",
    "def probe_sensors_ext(neighbors):\n",
    "\n",
    "    probe = np.array(neighbors)\n",
    "\n",
    "    sensing = np.array([True]*len(neighbors))\n",
    "\n",
    "    for s in sensors:\n",
    "        sensing = np.logical_and(sensing, np.linalg.norm(probe - np.array([s.pos]*len(neighbors)), 1, axis=1) > s.radius)\n",
    "\n",
    "    return np.array(neighbors)[np.where(sensing == True)[0]][0]"
   ]
  },
  {
   "cell_type": "code",
   "execution_count": null,
   "id": "2cdc0338",
   "metadata": {},
   "outputs": [],
   "source": [
    "intersections = compute_intersections(sensors)\n",
    "\n",
    "neighbors = compute_neighbors(intersections)\n",
    "\n",
    "bx, by = probe_sensors_ext(neighbors)\n",
    "\n",
    "tuning_freq = bx*4000000 + by"
   ]
  },
  {
   "cell_type": "code",
   "execution_count": null,
   "id": "03495c10",
   "metadata": {},
   "outputs": [],
   "source": [
    "puzzle.answer_b = tuning_freq"
   ]
  },
  {
   "cell_type": "markdown",
   "id": "3b047b08",
   "metadata": {},
   "source": [
    "## Day 14\n",
    "https://adventofcode.com/2022/day/14\n",
    "### Part 1"
   ]
  },
  {
   "cell_type": "code",
   "execution_count": null,
   "id": "703cb2cd",
   "metadata": {},
   "outputs": [],
   "source": [
    "puzzle = Puzzle(2022, 14)\n",
    "lines = puzzle.input_data.split('\\n')"
   ]
  },
  {
   "cell_type": "code",
   "execution_count": null,
   "id": "2b087b85",
   "metadata": {},
   "outputs": [],
   "source": [
    "positions = set()\n",
    "\n",
    "for line in lines:\n",
    "    segment = list(map(eval, line.split(' -> ')))\n",
    "\n",
    "    for p1, p2 in zip(segment[:-1], segment[1:]):\n",
    "        if p1[0] == p2[0]:\n",
    "            y0 = min(p1[1], p2[1])\n",
    "            y1 = max(p1[1], p2[1])\n",
    "            for y in range(y0, y1+1):\n",
    "                positions.add((p1[0], y))\n",
    "        else:\n",
    "            x0 = min(p1[0], p2[0])\n",
    "            x1 = max(p1[0], p2[0])\n",
    "            for x in range(x0, x1+1):\n",
    "                positions.add((x, p1[1]))\n"
   ]
  },
  {
   "cell_type": "code",
   "execution_count": null,
   "id": "ce502788",
   "metadata": {},
   "outputs": [],
   "source": [
    "mx, my = max(p[0] for p in positions), max(p[1] for p in positions)"
   ]
  },
  {
   "cell_type": "code",
   "execution_count": null,
   "id": "3289fe60",
   "metadata": {},
   "outputs": [],
   "source": [
    "import numpy as np\n",
    "\n",
    "cave = np.zeros((mx+1, my+1))\n",
    "for pos in positions:\n",
    "    \n",
    "    cave[pos] = 2"
   ]
  },
  {
   "cell_type": "code",
   "execution_count": null,
   "id": "1a4f6565",
   "metadata": {},
   "outputs": [],
   "source": [
    "np.array(list(positions))"
   ]
  },
  {
   "cell_type": "code",
   "execution_count": null,
   "id": "b93142b1",
   "metadata": {},
   "outputs": [],
   "source": [
    "def simulate_grain(cave, my):\n",
    "    x, y = 500, 0\n",
    "    \n",
    "    while y < my:\n",
    "        if cave[x, y+1] == 0:\n",
    "            y += 1\n",
    "        elif cave[x-1, y+1] == 0:\n",
    "            x -= 1\n",
    "            y += 1\n",
    "        elif cave[x+1, y+1] == 0:\n",
    "            x += 1\n",
    "            y += 1\n",
    "        else:\n",
    "            return x, y"
   ]
  },
  {
   "cell_type": "code",
   "execution_count": null,
   "id": "31798166",
   "metadata": {},
   "outputs": [],
   "source": [
    "for i in range(10000):\n",
    "    res = simulate_grain(cave, my)\n",
    "    if res is None:\n",
    "        break\n",
    "    cave[res[0], res[1]] = 1\n",
    "answer_a = i"
   ]
  },
  {
   "cell_type": "code",
   "execution_count": null,
   "id": "e38c639f",
   "metadata": {},
   "outputs": [],
   "source": [
    "puzzle.answer_a = answer_a"
   ]
  },
  {
   "cell_type": "code",
   "execution_count": null,
   "id": "8a626165",
   "metadata": {},
   "outputs": [],
   "source": [
    "from matplotlib import pyplot as plt\n",
    "\n",
    "plt.rcParams[\"figure.figsize\"] = (20,10)\n",
    "\n",
    "plt.imshow(cave[250:550].T)"
   ]
  },
  {
   "cell_type": "markdown",
   "id": "04c2d72c",
   "metadata": {},
   "source": [
    "### Part 2"
   ]
  },
  {
   "cell_type": "code",
   "execution_count": null,
   "id": "d50bc3aa",
   "metadata": {},
   "outputs": [],
   "source": [
    "cave = np.zeros((2*mx, my+3))\n",
    "for pos in positions:\n",
    "    cave[pos] = 2\n",
    "    \n",
    "cave[:,my+2] = 2"
   ]
  },
  {
   "cell_type": "code",
   "execution_count": null,
   "id": "d881a8c4",
   "metadata": {},
   "outputs": [],
   "source": [
    "for i in range(100000):\n",
    "    res = simulate_grain(cave, my+3)\n",
    "    cave[res[0], res[1]] = 1\n",
    "    if res[0] == 500 and res[1] == 0:\n",
    "        break\n",
    "        \n",
    "answer_b = i+1"
   ]
  },
  {
   "cell_type": "code",
   "execution_count": null,
   "id": "2d03898d",
   "metadata": {},
   "outputs": [],
   "source": [
    "puzzle.answer_b = answer_b"
   ]
  },
  {
   "cell_type": "code",
   "execution_count": null,
   "id": "6d6e25ae",
   "metadata": {},
   "outputs": [],
   "source": [
    "from matplotlib import pyplot as plt\n",
    "\n",
    "plt.rcParams[\"figure.figsize\"] = (20,10)\n",
    "\n",
    "plt.imshow(cave[250:650].T)"
   ]
  },
  {
   "cell_type": "markdown",
   "id": "54b4a6fc",
   "metadata": {},
   "source": [
    "## Day 13\n",
    "https://adventofcode.com/2022/day/13\n",
    "### Part 1"
   ]
  },
  {
   "cell_type": "code",
   "execution_count": null,
   "id": "0e5bf5c7",
   "metadata": {},
   "outputs": [],
   "source": [
    "puzzle = Puzzle(2022, 13)\n",
    "lines = puzzle.input_data.split('\\n\\n')"
   ]
  },
  {
   "cell_type": "code",
   "execution_count": null,
   "id": "9dd2537f",
   "metadata": {},
   "outputs": [],
   "source": [
    "def recurse_comp(left, right):\n",
    "    if type(left) != type(right):\n",
    "        if type(left) is int:\n",
    "            left = [left]\n",
    "        else:\n",
    "            right = [right]\n",
    "    \n",
    "    if type(left) == type(right) == int:\n",
    "        if left != right:\n",
    "            return left < right\n",
    "    \n",
    "    else:\n",
    "        for l, r in zip(left, right):\n",
    "            res = recurse_comp(l, r)\n",
    "            if res is None:\n",
    "                continue\n",
    "            return res\n",
    "        if len(left) != len(right):\n",
    "            return len(left) < len(right)"
   ]
  },
  {
   "cell_type": "code",
   "execution_count": null,
   "id": "c742cf4f",
   "metadata": {},
   "outputs": [],
   "source": [
    "tot = 0\n",
    "\n",
    "for idx, line in enumerate(lines):\n",
    "    left, right = line.split()\n",
    "    ret = recurse_comp(eval(left), eval(right))\n",
    "    if ret:\n",
    "        tot += idx + 1\n",
    "        \n",
    "answer_a = tot"
   ]
  },
  {
   "cell_type": "code",
   "execution_count": null,
   "id": "576923b6",
   "metadata": {},
   "outputs": [],
   "source": [
    "puzzle.answer_a = answer_a"
   ]
  },
  {
   "cell_type": "markdown",
   "id": "266b6772",
   "metadata": {},
   "source": [
    "### Part 2"
   ]
  },
  {
   "cell_type": "code",
   "execution_count": null,
   "id": "6f7bd2ec",
   "metadata": {},
   "outputs": [],
   "source": [
    "messages = '\\n'.join(lines).split('\\n')\n",
    "messages.extend(['[[2]]', '[[6]]'])\n",
    "messages = list(map(eval, messages))"
   ]
  },
  {
   "cell_type": "code",
   "execution_count": null,
   "id": "31340fd1",
   "metadata": {},
   "outputs": [],
   "source": [
    "from functools import cmp_to_key\n",
    "\n",
    "def cmp_(a, b):\n",
    "    ret = recurse_comp(a, b)\n",
    "    if ret:\n",
    "        return -1\n",
    "    else:\n",
    "        return 1\n",
    "    return 0\n",
    "\n",
    "messages.sort(key=cmp_to_key(cmp_))"
   ]
  },
  {
   "cell_type": "code",
   "execution_count": null,
   "id": "7b6c3e41",
   "metadata": {},
   "outputs": [],
   "source": [
    "answer_b = (messages.index(eval('[[2]]')) + 1) * (messages.index(eval('[[6]]')) + 1)"
   ]
  },
  {
   "cell_type": "code",
   "execution_count": null,
   "id": "057c913b",
   "metadata": {},
   "outputs": [],
   "source": [
    "puzzle.answer_b = answer_b"
   ]
  },
  {
   "cell_type": "markdown",
   "id": "d0780b3c",
   "metadata": {},
   "source": [
    "## Day 12\n",
    "https://adventofcode.com/2022/day/12\n",
    "### Part 1"
   ]
  },
  {
   "cell_type": "code",
   "execution_count": null,
   "id": "44fbb9cc",
   "metadata": {},
   "outputs": [],
   "source": [
    "puzzle = Puzzle(2022, 12)\n",
    "lines = puzzle.input_data.split('\\n')"
   ]
  },
  {
   "cell_type": "code",
   "execution_count": null,
   "id": "6fe1f8a2",
   "metadata": {},
   "outputs": [],
   "source": [
    "import numpy as np\n",
    "\n",
    "for y, line in enumerate(lines):\n",
    "    for x, c in enumerate(line):\n",
    "        if c == 'S':\n",
    "            start = (x, y)\n",
    "        elif c == 'E':\n",
    "            end = (x, y)\n",
    "\n",
    "hmap = np.array([[ord(c) - ord('a') for c in line] for line in lines]).T\n",
    "hmap[start] = 0\n",
    "hmap[end] = ord('z') - ord('a')"
   ]
  },
  {
   "cell_type": "markdown",
   "id": "f59a8f4e",
   "metadata": {},
   "source": [
    "### Part 1 (new, networkx)"
   ]
  },
  {
   "cell_type": "code",
   "execution_count": null,
   "id": "29656789",
   "metadata": {},
   "outputs": [],
   "source": [
    "# Fucking networkx version\n",
    "!pip install networkx"
   ]
  },
  {
   "cell_type": "code",
   "execution_count": null,
   "id": "710e2a90",
   "metadata": {},
   "outputs": [],
   "source": [
    "import networkx as nx\n",
    "\n",
    "def neighbors(src, vertices):\n",
    "    x, y = src\n",
    "    candidates = set([(x+1, y), (x-1, y), (x, y+1), (x, y-1)])\n",
    "    candidates = candidates & vertices\n",
    "    return [v for v in candidates if hmap[v] <= hmap[src] + 1]\n",
    "\n",
    "def reachable(start, neighbors, hmap):\n",
    "    on_map = [n for n in neighbors if valid(n, hmap)]\n",
    "    return \n",
    "\n",
    "def valid(pos, hmap):\n",
    "    H, W = hmap.shape\n",
    "    return (0 <= pos[0] < H) & (0 <= pos[1] < W)\n",
    "\n",
    "def setup_graph(hmap):\n",
    "\n",
    "    G = nx.DiGraph()\n",
    "\n",
    "    nnx, nny = hmap.shape\n",
    "    vertices = set([(x, y) for x in range(nnx) for y in range(nny)])\n",
    "\n",
    "    G.add_node(v for v in vertices)\n",
    "\n",
    "    for v in vertices:\n",
    "        for u in neighbors(v, vertices):\n",
    "            G.add_edge(v, u)\n",
    "            \n",
    "    return G"
   ]
  },
  {
   "cell_type": "code",
   "execution_count": null,
   "id": "5767371f",
   "metadata": {},
   "outputs": [],
   "source": [
    "G = setup_graph(hmap)\n",
    "answer_a = nx.shortest_path_length(G, start, end)"
   ]
  },
  {
   "cell_type": "markdown",
   "id": "e0de0a29",
   "metadata": {},
   "source": [
    "### Part 1 (old, a la mano)"
   ]
  },
  {
   "cell_type": "code",
   "execution_count": null,
   "id": "5d9d1cfc",
   "metadata": {},
   "outputs": [],
   "source": [
    "class Vertex:\n",
    "    \n",
    "    def __init__(self, x, y):\n",
    "        self.x = x\n",
    "        self.y = y\n",
    "        self.dist = 10**4\n",
    "        self.prev = None\n",
    "        self.visited = False\n",
    "        \n",
    "    def pos(self):\n",
    "        return (self.x, self.y)\n",
    "        \n",
    "    def neighbors(self, hmap):\n",
    "        candidates = [(self.x+1, self.y), (self.x-1, self.y), (self.x, self.y+1), (self.x, self.y-1)]\n",
    "        return reachable(self.pos(), candidates, hmap)\n",
    "    \n",
    "class Queue:\n",
    "    \n",
    "    def __init__(self, values):\n",
    "        self.list = list(values)\n",
    "        \n",
    "    def pop(self):\n",
    "        return self.list.pop(0)\n",
    "        \n",
    "    def sort(self):\n",
    "        self.list.sort(key=lambda v: v.dist)\n",
    "        \n",
    "    def empty(self):\n",
    "        return len(self.list) == 0\n",
    "\n",
    "def reachable(start, neighbors, hmap):\n",
    "    on_map = [n for n in neighbors if valid(n, hmap)]\n",
    "    return [v for v in on_map if hmap[v] <= hmap[start] + 1]\n",
    "\n",
    "def valid(pos, hmap):\n",
    "    H, W = hmap.shape\n",
    "    return (0 <= pos[0] < H) & (0 <= pos[1] < W)\n",
    "    \n",
    "from collections import deque\n",
    "\n",
    "def run_djikstra(start, hmap):\n",
    "\n",
    "    nx, ny = hmap.shape\n",
    "    verticies = [Vertex(x, y) for x in range(nx) for y in range(ny)]\n",
    "\n",
    "    vmap = {(v.x, v.y): v for v in verticies}\n",
    "    vmap[start].dist = 0\n",
    "\n",
    "    queue = Queue(verticies)\n",
    "    queue.sort()\n",
    "    \n",
    "    while not queue.empty():\n",
    "        u = queue.pop()\n",
    "\n",
    "        for v in [vmap[pos] for pos in u.neighbors(hmap)]:\n",
    "            if not v.visited:\n",
    "                dist = u.dist + 1\n",
    "                if dist < v.dist:\n",
    "                    v.dist = dist\n",
    "                    v.prev = u\n",
    "        u.visited = True\n",
    "        queue.sort()\n",
    "    \n",
    "    return vmap"
   ]
  },
  {
   "cell_type": "code",
   "execution_count": null,
   "id": "eeeba865",
   "metadata": {},
   "outputs": [],
   "source": [
    "vmap = run_djikstra(start, hmap)"
   ]
  },
  {
   "cell_type": "code",
   "execution_count": null,
   "id": "6a1a65f4",
   "metadata": {},
   "outputs": [],
   "source": [
    "answer_a = vmap[end].dist"
   ]
  },
  {
   "cell_type": "code",
   "execution_count": null,
   "id": "6656dac5",
   "metadata": {},
   "outputs": [],
   "source": [
    "puzzle.answer_a = answer_a"
   ]
  },
  {
   "cell_type": "markdown",
   "id": "ef5f1f0a",
   "metadata": {},
   "source": [
    "### Part 2"
   ]
  },
  {
   "cell_type": "code",
   "execution_count": null,
   "id": "6135145b",
   "metadata": {},
   "outputs": [],
   "source": [
    "G = setup_graph(hmap)"
   ]
  },
  {
   "cell_type": "code",
   "execution_count": null,
   "id": "d945b8c6",
   "metadata": {},
   "outputs": [],
   "source": [
    "stsp = dict(nx.single_target_shortest_path_length(G, end))\n",
    "\n",
    "low_points = [(xi, yi) for xi, yi in zip(*np.where(hmap == 0))]\n",
    "\n",
    "answer_b = min(stsp[src] for src in low_points if src in stsp)"
   ]
  },
  {
   "cell_type": "code",
   "execution_count": null,
   "id": "a3b129ed",
   "metadata": {},
   "outputs": [],
   "source": [
    "puzzle.answer_b = answer_b"
   ]
  },
  {
   "cell_type": "markdown",
   "id": "4ae5270f",
   "metadata": {},
   "source": [
    "## Day 11\n",
    "https://adventofcode.com/2022/day/11\n",
    "### Part 1"
   ]
  },
  {
   "cell_type": "code",
   "execution_count": null,
   "id": "876aaa37",
   "metadata": {},
   "outputs": [],
   "source": [
    "puzzle = Puzzle(2022, 11)\n",
    "lines = puzzle.input_data.split('\\n\\n')"
   ]
  },
  {
   "cell_type": "code",
   "execution_count": null,
   "id": "8763fe7f",
   "metadata": {},
   "outputs": [],
   "source": [
    "class Monkey:\n",
    "    \n",
    "    def __init__(self, description):\n",
    "        self.items = list(map(int, description[1].split(': ')[1].split(', ')))\n",
    "        self.operation = description[2].split(' = ')[1]\n",
    "        self.test_value = int(description[3].split()[-1])\n",
    "        self.test_true = int(description[4].split()[-1])\n",
    "        self.test_false = int(description[5].split()[-1])\n",
    "        self.business_level = 0\n",
    "        \n",
    "    def inspect(self, mod, divide=True):\n",
    "        for old in self.items:\n",
    "            worry = eval(self.operation) // 3 if divide else eval(self.operation)\n",
    "            worry = worry % mod\n",
    "            target = self.test_true if worry % self.test_value == 0 else self.test_false\n",
    "            monkeys[target].items.append(worry)\n",
    "\n",
    "        self.business_level += len(self.items)\n",
    "        self.items = []\n",
    "\n",
    "\n",
    "def init_monkeys():\n",
    "    monkeys = []\n",
    "    for line in lines:\n",
    "        monkeys.append(Monkey(line.split('\\n')))\n",
    "    return monkeys"
   ]
  },
  {
   "cell_type": "code",
   "execution_count": null,
   "id": "8f437f5a",
   "metadata": {},
   "outputs": [],
   "source": [
    "ppmc = math.prod([monkey.test_value for monkey in monkeys])\n",
    "\n",
    "monkeys = init_monkeys()\n",
    "\n",
    "for i in range(20):\n",
    "    for monkey in monkeys:\n",
    "        monkey.inspect(mod=ppmc)"
   ]
  },
  {
   "cell_type": "code",
   "execution_count": null,
   "id": "3b8c25d5",
   "metadata": {},
   "outputs": [],
   "source": [
    "import math\n",
    "\n",
    "answer_a = math.prod(sorted([monkey.business_level for monkey in monkeys], reverse=True)[:2])"
   ]
  },
  {
   "cell_type": "code",
   "execution_count": null,
   "id": "86103e76",
   "metadata": {},
   "outputs": [],
   "source": [
    "puzzle.answer_a = answer_a"
   ]
  },
  {
   "cell_type": "markdown",
   "id": "0f2f1930",
   "metadata": {},
   "source": [
    "### Part 2"
   ]
  },
  {
   "cell_type": "code",
   "execution_count": null,
   "id": "cecd1db7",
   "metadata": {},
   "outputs": [],
   "source": [
    "ppmc = math.prod([monkey.test_value for monkey in monkeys])\n",
    "\n",
    "monkeys = init_monkeys()\n",
    "\n",
    "for i in range(10000):\n",
    "    for monkey in monkeys:\n",
    "        monkey.inspect(mod=ppmc, divide=False)"
   ]
  },
  {
   "cell_type": "code",
   "execution_count": null,
   "id": "94b1a134",
   "metadata": {},
   "outputs": [],
   "source": [
    "answer_b = math.prod(sorted([monkey.business_level for monkey in monkeys], reverse=True)[:2])"
   ]
  },
  {
   "cell_type": "code",
   "execution_count": null,
   "id": "4453d9a0",
   "metadata": {},
   "outputs": [],
   "source": [
    "puzzle.answer_b = answer_b"
   ]
  },
  {
   "cell_type": "markdown",
   "id": "21013812",
   "metadata": {},
   "source": [
    "## Day 10\n",
    "https://adventofcode.com/2022/day/10\n",
    "### Part 1"
   ]
  },
  {
   "cell_type": "code",
   "execution_count": null,
   "id": "1a7f9c6d",
   "metadata": {},
   "outputs": [],
   "source": [
    "puzzle = Puzzle(2022, 10)\n",
    "lines = puzzle.input_data.split('\\n')"
   ]
  },
  {
   "cell_type": "code",
   "execution_count": null,
   "id": "df491b1f",
   "metadata": {},
   "outputs": [],
   "source": [
    "cycled = []\n",
    "for line in lines:\n",
    "    if line[0] == 'a':\n",
    "        cycled.extend(['noop', line])\n",
    "    else:\n",
    "        cycled.append(line)"
   ]
  },
  {
   "cell_type": "code",
   "execution_count": null,
   "id": "87653189",
   "metadata": {},
   "outputs": [],
   "source": [
    "X = 1\n",
    "\n",
    "values = [X]\n",
    "\n",
    "for ins in cycled:\n",
    "    if ins[0] == 'a':\n",
    "        X += int(ins.split()[1])\n",
    "    values.append(X)"
   ]
  },
  {
   "cell_type": "code",
   "execution_count": null,
   "id": "93b91d5a",
   "metadata": {},
   "outputs": [],
   "source": [
    "answer_a = sum([cycle*values[cycle-1] for cycle in range(20, 220+1, 40)])"
   ]
  },
  {
   "cell_type": "code",
   "execution_count": null,
   "id": "63533289",
   "metadata": {},
   "outputs": [],
   "source": [
    "puzzle.answer_a = answer_a"
   ]
  },
  {
   "cell_type": "markdown",
   "id": "cb7d2ee8",
   "metadata": {},
   "source": [
    "### Part 2"
   ]
  },
  {
   "cell_type": "code",
   "execution_count": null,
   "id": "257e1393",
   "metadata": {},
   "outputs": [],
   "source": [
    "import numpy as np\n",
    "\n",
    "m = 40\n",
    "\n",
    "screen = np.zeros((6, m))\n",
    "\n",
    "for pos, val in enumerate(values[:-1]):\n",
    "    l = pos // m\n",
    "    r = pos % m\n",
    "    screen[l, r] = 1 if abs(val - r) < 2 else 0"
   ]
  },
  {
   "cell_type": "code",
   "execution_count": null,
   "id": "e85ce78c",
   "metadata": {},
   "outputs": [],
   "source": [
    "from matplotlib import pyplot as plt\n",
    "\n",
    "plt.rcParams[\"figure.figsize\"] = (20,10)\n",
    "\n",
    "plt.imshow(screen)"
   ]
  },
  {
   "cell_type": "code",
   "execution_count": null,
   "id": "5984fb3d",
   "metadata": {},
   "outputs": [],
   "source": [
    "answer_b = \"RZEKEFHA\""
   ]
  },
  {
   "cell_type": "code",
   "execution_count": null,
   "id": "42c032cf",
   "metadata": {},
   "outputs": [],
   "source": [
    "puzzle.answer_b = answer_b"
   ]
  },
  {
   "cell_type": "markdown",
   "id": "39c164f5",
   "metadata": {},
   "source": [
    "## Day 9\n",
    "https://adventofcode.com/2022/day/9\n",
    "### Part 1"
   ]
  },
  {
   "cell_type": "code",
   "execution_count": null,
   "id": "31747dbd",
   "metadata": {},
   "outputs": [],
   "source": [
    "puzzle = Puzzle(2022, 9)\n",
    "lines = puzzle.input_data.split('\\n')"
   ]
  },
  {
   "cell_type": "code",
   "execution_count": null,
   "id": "c8a5a015",
   "metadata": {},
   "outputs": [],
   "source": [
    "directions = []\n",
    "\n",
    "for line in lines:\n",
    "    a, b = line.split()\n",
    "    directions.extend([a]*int(b))"
   ]
  },
  {
   "cell_type": "code",
   "execution_count": null,
   "id": "87a91813",
   "metadata": {},
   "outputs": [],
   "source": [
    "moves = {\n",
    "    \"D\": (0, -1),\n",
    "    \"U\": (0, 1),\n",
    "    \"L\": (-1, 0),\n",
    "    \"R\": (1, 0),\n",
    "}\n",
    "\n",
    "class Rope:\n",
    "    \n",
    "    def __init__(self):\n",
    "        self.knots = []\n",
    "        \n",
    "    def add(self, knot):\n",
    "        self.knots.append(knot)\n",
    "        if len(self.knots) > 1:\n",
    "            knot.link(self.knots[-2])\n",
    "            \n",
    "    def move(self, direction):\n",
    "        self.knots[0].move(direction)\n",
    "        for knot in self.knots[1:]:\n",
    "            knot.follow()\n",
    "            \n",
    "    def head(self):\n",
    "        return self.knots[0]\n",
    "    \n",
    "    def tail(self):\n",
    "        return self.knots[-1]\n",
    "\n",
    "class Knot:\n",
    "    \n",
    "    def __init__(self, x_=0, y_=0):\n",
    "        self.x = x_\n",
    "        self.y = y_\n",
    "        self.next_ = None\n",
    "        \n",
    "    def pos(self):\n",
    "        return self.x, self.y\n",
    "        \n",
    "    def link(self, other):\n",
    "        self.next_ = other\n",
    "        \n",
    "    def move(self, direction):\n",
    "        dx, dy = moves[direction]\n",
    "        \n",
    "        self.x += dx\n",
    "        self.y += dy\n",
    "        \n",
    "    def follow(self):\n",
    "        \n",
    "        vx = self.next_.x - self.x\n",
    "        vy = self.next_.y - self.y\n",
    "        \n",
    "        if max(abs(vx), abs(vy)) > 1:\n",
    "            if abs(vx) > 0:\n",
    "                self.x += int(vx/abs(vx))\n",
    "            if abs(vy) > 0:\n",
    "                self.y += int((vy)/abs(vy))\n",
    "                \n",
    "def move_rope(rope, directions):\n",
    "\n",
    "    positions = {rope.tail().pos()}\n",
    "\n",
    "    for direction in directions:\n",
    "        rope.move(direction)\n",
    "\n",
    "        positions.add(rope.tail().pos())\n",
    "        \n",
    "    return positions"
   ]
  },
  {
   "cell_type": "code",
   "execution_count": null,
   "id": "b2051419",
   "metadata": {},
   "outputs": [],
   "source": [
    "rope = Rope()\n",
    "for i in range(2):\n",
    "    rope.add(Knot())\n",
    "\n",
    "answer_a = len(move_rope(rope, directions))"
   ]
  },
  {
   "cell_type": "code",
   "execution_count": null,
   "id": "1aeb927f",
   "metadata": {},
   "outputs": [],
   "source": [
    "puzzle.answer_a = answer_a"
   ]
  },
  {
   "cell_type": "markdown",
   "id": "d50d5806",
   "metadata": {},
   "source": [
    "### Part 2"
   ]
  },
  {
   "cell_type": "code",
   "execution_count": null,
   "id": "5875e8ba",
   "metadata": {},
   "outputs": [],
   "source": [
    "rope = Rope()\n",
    "for i in range(10):\n",
    "    rope.add(Knot())\n",
    "    \n",
    "answer_b = len(move_rope(rope, directions))"
   ]
  },
  {
   "cell_type": "code",
   "execution_count": null,
   "id": "98316d1a",
   "metadata": {},
   "outputs": [],
   "source": [
    "puzzle.answer_b = answer_b"
   ]
  },
  {
   "cell_type": "markdown",
   "id": "68b9b709",
   "metadata": {},
   "source": [
    "### Extra"
   ]
  },
  {
   "cell_type": "code",
   "execution_count": null,
   "id": "05162278",
   "metadata": {},
   "outputs": [],
   "source": [
    "import numpy as np\n",
    "import cv2 as cv\n",
    "\n",
    "resolution = (960, 540)\n",
    "\n",
    "def draw_rope(rope, positions=None):\n",
    "    img = np.zeros(resolution[::-1])\n",
    "    \n",
    "    img = cv.cvtColor(img.astype('uint8'), cv.COLOR_GRAY2BGR)\n",
    "    \n",
    "    mx, my = -200, -350\n",
    "    \n",
    "    for idx, k in enumerate(rope.knots):\n",
    "        img[k.x - mx, k.y - my,:] = (255 - 3*idx, 0, 255 - 3*idx)\n",
    "        \n",
    "    if positions is not None:\n",
    "        n = len(positions)\n",
    "        \n",
    "        for idx, (x, y) in enumerate(positions):\n",
    "            img[x - mx, y - my,:] = (125, 0, int(255*idx / n))\n",
    "\n",
    "    return img\n",
    "    \n",
    "def animate_rope(rope, directions):\n",
    "    \n",
    "    fourcc = cv.VideoWriter_fourcc(*'mp4v')\n",
    "    out = cv.VideoWriter('day09.mp4', fourcc, 30.0, resolution)\n",
    "\n",
    "    out.write(draw_rope(rope))\n",
    "\n",
    "    positions = [rope.tail().pos()]\n",
    "    \n",
    "    for direction in directions:\n",
    "        rope.move(direction)\n",
    "\n",
    "        positions.append(rope.tail().pos())\n",
    "        out.write(draw_rope(rope, positions))\n",
    "    \n",
    "    out.release()"
   ]
  },
  {
   "cell_type": "code",
   "execution_count": null,
   "id": "0eca4048",
   "metadata": {},
   "outputs": [],
   "source": [
    "animate_rope(rope, directions)"
   ]
  },
  {
   "cell_type": "markdown",
   "id": "11482377",
   "metadata": {},
   "source": [
    "## Day 8\n",
    "https://adventofcode.com/2022/day/8\n",
    "### Part 1"
   ]
  },
  {
   "cell_type": "code",
   "execution_count": null,
   "id": "b7ff94ad",
   "metadata": {},
   "outputs": [],
   "source": [
    "puzzle = Puzzle(2022, 8)\n",
    "lines = puzzle.input_data.split('\\n')"
   ]
  },
  {
   "cell_type": "code",
   "execution_count": null,
   "id": "067dc762",
   "metadata": {},
   "outputs": [],
   "source": [
    "forest = np.array([list(map(int, line)) for line in lines])"
   ]
  },
  {
   "cell_type": "code",
   "execution_count": null,
   "id": "1756b8f3",
   "metadata": {},
   "outputs": [],
   "source": [
    "import numpy as np\n",
    "\n",
    "def visibility(line):\n",
    "    top = -1\n",
    "    mask = []\n",
    "    for item in line:\n",
    "        mask.append(top)\n",
    "        top = max(top, item)\n",
    "    return line > np.array(mask)"
   ]
  },
  {
   "cell_type": "code",
   "execution_count": null,
   "id": "0b6ccbb7",
   "metadata": {},
   "outputs": [],
   "source": [
    "left = np.array([visibility(line) for line in forest])\n",
    "right = np.array([visibility(line[::-1])[::-1] for line in forest])\n",
    "top = np.array([visibility(line) for line in forest.T]).T\n",
    "bottom = np.array([visibility(line[::-1])[::-1] for line in forest.T]).T\n",
    "\n",
    "answer_a = np.sum(left | right | top | bottom)"
   ]
  },
  {
   "cell_type": "code",
   "execution_count": null,
   "id": "2000ee7d",
   "metadata": {},
   "outputs": [],
   "source": [
    "puzzle.answer_a = answer_a"
   ]
  },
  {
   "cell_type": "markdown",
   "id": "5a14b0c2",
   "metadata": {},
   "source": [
    "### Part 2"
   ]
  },
  {
   "cell_type": "code",
   "execution_count": null,
   "id": "e466b9e3",
   "metadata": {},
   "outputs": [],
   "source": [
    "def los(line):\n",
    "    if len(line) < 2:\n",
    "        return 0\n",
    "    \n",
    "    top = line[0]\n",
    "    \n",
    "    for cnt, item in enumerate(line[1:]):\n",
    "        if item >= top:\n",
    "            break\n",
    "    return cnt + 1\n",
    "\n",
    "def viewing_score(x, y):\n",
    "    # left, right, top, bottom\n",
    "    return los(forest[y,x::-1]) * los(forest[y,x:]) * los(forest[y::-1,x]) * los(forest[y:,x])"
   ]
  },
  {
   "cell_type": "code",
   "execution_count": null,
   "id": "c3f240c5",
   "metadata": {},
   "outputs": [],
   "source": [
    "H, W = forest.shape\n",
    "answer_b = max(viewing_score(x, y) for x in range(W) for y in range(H))"
   ]
  },
  {
   "cell_type": "code",
   "execution_count": null,
   "id": "ad14aae9",
   "metadata": {},
   "outputs": [],
   "source": [
    "puzzle.answer_b = answer_b"
   ]
  },
  {
   "cell_type": "markdown",
   "id": "572bf78e",
   "metadata": {},
   "source": [
    "### Extra"
   ]
  },
  {
   "cell_type": "code",
   "execution_count": null,
   "id": "9761c154",
   "metadata": {},
   "outputs": [],
   "source": [
    "from matplotlib import pyplot as plt\n",
    "\n",
    "plt.rcParams[\"figure.figsize\"] = (20,10)\n",
    "\n",
    "fig, (ax1, ax2) = plt.subplots(1, 2)\n",
    "\n",
    "ax1.imshow(forest, cmap='YlGn')\n",
    "ax1.set_title(\"Forest\")\n",
    "\n",
    "ax2.imshow(left | right | top | bottom)\n",
    "ax2.set_title(\"Visible trees\")"
   ]
  },
  {
   "cell_type": "markdown",
   "id": "dd2fa332",
   "metadata": {},
   "source": [
    "## Day 7\n",
    "https://adventofcode.com/2022/day/7\n",
    "### Part 1"
   ]
  },
  {
   "cell_type": "code",
   "execution_count": null,
   "id": "402abd38",
   "metadata": {},
   "outputs": [],
   "source": [
    "puzzle = Puzzle(2022, 7)\n",
    "lines = puzzle.input_data.split('\\n')"
   ]
  },
  {
   "cell_type": "code",
   "execution_count": null,
   "id": "e99e1683",
   "metadata": {},
   "outputs": [],
   "source": [
    "from collections import deque, defaultdict\n",
    "import re\n",
    "import os\n",
    "\n",
    "class File:\n",
    "    \n",
    "    def __init__(self, name_, size_):\n",
    "        self._name = name_\n",
    "        self._size = size_\n",
    "        \n",
    "    def size(self):\n",
    "        return int(self._size)\n",
    "\n",
    "class Directory:\n",
    "    \n",
    "    def __init__(self):\n",
    "        self.dirs = []\n",
    "        self.files = []\n",
    "        \n",
    "    def size(self):\n",
    "        return sum(file_.size() for file_ in self.files) + sum(dir_.size() for dir_ in self.dirs)\n",
    "    "
   ]
  },
  {
   "cell_type": "code",
   "execution_count": null,
   "id": "e3cf02cd",
   "metadata": {},
   "outputs": [],
   "source": [
    "def current_path():\n",
    "    return os.path.join(*list(path))\n",
    "\n",
    "path = deque()\n",
    "inodes = defaultdict(Directory)\n",
    "\n",
    "for line in lines:\n",
    "    if line[0] == '$':\n",
    "        cmd = line[2:]\n",
    "        if cmd[:2] == 'cd':\n",
    "            loc = cmd[3:]\n",
    "            if loc == '..':\n",
    "                path.pop()\n",
    "            else:\n",
    "                path.append(loc)\n",
    "    else:\n",
    "        cur_path = current_path()\n",
    "\n",
    "        if line[:3] == 'dir':\n",
    "            dir_path = os.path.join(cur_path, line[4:])\n",
    "            inodes[cur_path].dirs.append(inodes[dir_path])\n",
    "        else:\n",
    "            inodes[cur_path].files.append(File(*line.split()[::-1]))"
   ]
  },
  {
   "cell_type": "code",
   "execution_count": null,
   "id": "06b01c15",
   "metadata": {},
   "outputs": [],
   "source": [
    "answer_a = sum(dir_.size() for dir_ in inodes.values() if dir_.size() <= 100000)"
   ]
  },
  {
   "cell_type": "code",
   "execution_count": null,
   "id": "bbca4b16",
   "metadata": {},
   "outputs": [],
   "source": [
    "puzzle.answer_a = answer_a"
   ]
  },
  {
   "cell_type": "markdown",
   "id": "c72cbdaf",
   "metadata": {},
   "source": [
    "### Part 2"
   ]
  },
  {
   "cell_type": "code",
   "execution_count": null,
   "id": "7704975a",
   "metadata": {},
   "outputs": [],
   "source": [
    "total_space = 70000000\n",
    "target_free_space = 30000000\n",
    "\n",
    "min_space_to_free = target_free_space - (total_space - inodes['/'].size())"
   ]
  },
  {
   "cell_type": "code",
   "execution_count": null,
   "id": "5ce97ef4",
   "metadata": {},
   "outputs": [],
   "source": [
    "answer_b = min(dir_.size() for dir_ in inodes.values() if dir_.size() >= min_space_to_free)"
   ]
  },
  {
   "cell_type": "code",
   "execution_count": null,
   "id": "5175c7a7",
   "metadata": {},
   "outputs": [],
   "source": [
    "puzzle.answer_b = answer_b"
   ]
  },
  {
   "cell_type": "markdown",
   "id": "eeae3a92",
   "metadata": {},
   "source": [
    "### Part 2"
   ]
  },
  {
   "cell_type": "markdown",
   "id": "c401a747",
   "metadata": {},
   "source": [
    "## Day 6\n",
    "https://adventofcode.com/2022/day/6\n",
    "### Part 1"
   ]
  },
  {
   "cell_type": "code",
   "execution_count": null,
   "id": "54112cbc",
   "metadata": {},
   "outputs": [],
   "source": [
    "puzzle = Puzzle(2022, 6)\n",
    "lines = puzzle.input_data.split('\\n')"
   ]
  },
  {
   "cell_type": "code",
   "execution_count": null,
   "id": "cd5c1ef1",
   "metadata": {},
   "outputs": [],
   "source": [
    "line = lines[0]\n",
    "for pos in range(4,len(line)):\n",
    "    if len(set(line[pos-4:pos])) == 4:\n",
    "        break"
   ]
  },
  {
   "cell_type": "code",
   "execution_count": null,
   "id": "94199bd3",
   "metadata": {},
   "outputs": [],
   "source": [
    "puzzle.answer_a = pos"
   ]
  },
  {
   "cell_type": "markdown",
   "id": "8ca252ef",
   "metadata": {},
   "source": [
    "### Part 2"
   ]
  },
  {
   "cell_type": "code",
   "execution_count": null,
   "id": "9d11c1e4",
   "metadata": {},
   "outputs": [],
   "source": [
    "line = lines[0]\n",
    "for pos in range(14,len(line)):\n",
    "    if len(set(line[pos-14:pos])) == 14:\n",
    "        break"
   ]
  },
  {
   "cell_type": "code",
   "execution_count": null,
   "id": "d3d4aabd",
   "metadata": {},
   "outputs": [],
   "source": [
    "puzzle.answer_b = pos"
   ]
  },
  {
   "cell_type": "markdown",
   "id": "c0f4c730",
   "metadata": {},
   "source": [
    "## Day 5\n",
    "https://adventofcode.com/2022/day/5\n",
    "### Part 1"
   ]
  },
  {
   "cell_type": "code",
   "execution_count": null,
   "id": "74585132",
   "metadata": {},
   "outputs": [],
   "source": [
    "puzzle = Puzzle(2022, 5)\n",
    "lines = puzzle.input_data.split('\\n')"
   ]
  },
  {
   "cell_type": "code",
   "execution_count": null,
   "id": "a27432bf",
   "metadata": {},
   "outputs": [],
   "source": [
    "from collections import deque, defaultdict\n",
    "import re\n",
    "\n",
    "def init_crates(lines):\n",
    "    crates = defaultdict(deque)\n",
    "\n",
    "    for offset, line in enumerate(lines):\n",
    "        if line[1] == '1':\n",
    "            break\n",
    "        for idx, elem in enumerate(line[1::4]):\n",
    "            if elem != ' ':\n",
    "                crates[idx].appendleft(elem)\n",
    "    \n",
    "    instructions = []\n",
    "\n",
    "    for line in lines[offset+2:]:\n",
    "        m = re.match(r\"move (\\d+) from (\\d+) to (\\d+)\", line)\n",
    "        instructions.append(tuple(map(int, m.groups())))\n",
    "    \n",
    "    return crates, instructions"
   ]
  },
  {
   "cell_type": "code",
   "execution_count": null,
   "id": "37703e75",
   "metadata": {},
   "outputs": [],
   "source": [
    "crates, instructions = init_crates(lines)\n",
    "\n",
    "for nb, src, dst in instructions:\n",
    "    crates[dst-1].extend([crates[src-1].pop() for i in range(nb)])"
   ]
  },
  {
   "cell_type": "code",
   "execution_count": null,
   "id": "4b0f6629",
   "metadata": {},
   "outputs": [],
   "source": [
    "answer_a = ''.join([crates[idx][-1] for idx in range(9)])"
   ]
  },
  {
   "cell_type": "code",
   "execution_count": null,
   "id": "6f2596bf",
   "metadata": {},
   "outputs": [],
   "source": [
    "puzzle.answer_a = answer_a"
   ]
  },
  {
   "cell_type": "markdown",
   "id": "e5472d49",
   "metadata": {},
   "source": [
    "### Part 2"
   ]
  },
  {
   "cell_type": "code",
   "execution_count": null,
   "id": "0d6b8556",
   "metadata": {},
   "outputs": [],
   "source": [
    "crates, instructions = init_crates(lines)\n",
    "\n",
    "for nb, src, dst in instructions:\n",
    "    crates[dst-1].extend([crates[src-1].pop() for i in range(nb)][::-1])"
   ]
  },
  {
   "cell_type": "code",
   "execution_count": null,
   "id": "8cacd4a6",
   "metadata": {},
   "outputs": [],
   "source": [
    "answer_b = ''.join([crates[idx][-1] for idx in range(9)])"
   ]
  },
  {
   "cell_type": "code",
   "execution_count": null,
   "id": "93f87724",
   "metadata": {},
   "outputs": [],
   "source": [
    "puzzle.answer_b = answer_b"
   ]
  },
  {
   "cell_type": "markdown",
   "id": "a5012c11",
   "metadata": {},
   "source": [
    "## Day 4\n",
    "https://adventofcode.com/2022/day/4\n",
    "### Part 1"
   ]
  },
  {
   "cell_type": "code",
   "execution_count": null,
   "id": "cec33e4f",
   "metadata": {},
   "outputs": [],
   "source": [
    "puzzle = Puzzle(2022, 4)\n",
    "lines = puzzle.input_data.split('\\n')"
   ]
  },
  {
   "cell_type": "code",
   "execution_count": null,
   "id": "66d488ef",
   "metadata": {},
   "outputs": [],
   "source": [
    "ranges = []\n",
    "for l in lines:\n",
    "    pair = []\n",
    "    for r in l.split(','):\n",
    "        a, b = map(int, r.split('-'))\n",
    "        pair.append(set(range(a,b+1)))\n",
    "    ranges.append(pair)"
   ]
  },
  {
   "cell_type": "code",
   "execution_count": null,
   "id": "660b86c2",
   "metadata": {},
   "outputs": [],
   "source": [
    "answer_a = len([r1 for r1, r2 in ranges if (r1 <= r2) or (r2 <= r1)])"
   ]
  },
  {
   "cell_type": "code",
   "execution_count": null,
   "id": "ad9d587e",
   "metadata": {},
   "outputs": [],
   "source": [
    "puzzle.answer_a = answer_a"
   ]
  },
  {
   "cell_type": "markdown",
   "id": "b85d8f3e",
   "metadata": {},
   "source": [
    "### Part 2"
   ]
  },
  {
   "cell_type": "code",
   "execution_count": null,
   "id": "96272306",
   "metadata": {},
   "outputs": [],
   "source": [
    "answer_b = len([r1 for r1, r2 in ranges if r1 & r2])"
   ]
  },
  {
   "cell_type": "code",
   "execution_count": null,
   "id": "ec24ad63",
   "metadata": {},
   "outputs": [],
   "source": [
    "puzzle.answer_b = answer_b"
   ]
  },
  {
   "cell_type": "markdown",
   "id": "491136e8",
   "metadata": {},
   "source": [
    "## Day 3\n",
    "https://adventofcode.com/2022/day/3\n",
    "### Part 1"
   ]
  },
  {
   "cell_type": "code",
   "execution_count": null,
   "id": "25cdde1b",
   "metadata": {},
   "outputs": [],
   "source": [
    "puzzle = Puzzle(2022, 3)\n",
    "lines = puzzle.input_data.split('\\n')"
   ]
  },
  {
   "cell_type": "code",
   "execution_count": null,
   "id": "464236f8",
   "metadata": {},
   "outputs": [],
   "source": [
    "from collections import Counter\n",
    "\n",
    "sacks = [(Counter(l[:len(l)//2]), Counter(l[len(l)//2:])) for l in lines]"
   ]
  },
  {
   "cell_type": "code",
   "execution_count": null,
   "id": "fa2cb275",
   "metadata": {},
   "outputs": [],
   "source": [
    "def prio(c):\n",
    "    if c.islower():\n",
    "        return ord(c) - ord('a') + 1\n",
    "    return ord(c) - ord('A') + 27\n",
    "\n",
    "answer_a = sum(prio(list(s[0].keys() & s[1].keys())[0]) for s in sacks)"
   ]
  },
  {
   "cell_type": "code",
   "execution_count": null,
   "id": "21cac31d",
   "metadata": {},
   "outputs": [],
   "source": [
    "puzzle.answer_a = answer_a"
   ]
  },
  {
   "cell_type": "markdown",
   "id": "6c168721",
   "metadata": {},
   "source": [
    "### Part 2"
   ]
  },
  {
   "cell_type": "code",
   "execution_count": null,
   "id": "c434accd",
   "metadata": {},
   "outputs": [],
   "source": [
    "sacks = [Counter(l) for l in lines]\n",
    "\n",
    "answer_b = sum([prio(list(sacks[i].keys() & sacks[i+1].keys() & sacks[i+2].keys())[0]) for i in range(0, len(sacks), 3)])"
   ]
  },
  {
   "cell_type": "code",
   "execution_count": null,
   "id": "9ced7344",
   "metadata": {},
   "outputs": [],
   "source": [
    "puzzle.answer_b = answer_b"
   ]
  },
  {
   "cell_type": "markdown",
   "id": "2d64bd35",
   "metadata": {},
   "source": [
    "## Day 2\n",
    "https://adventofcode.com/2022/day/2\n",
    "### Part 1"
   ]
  },
  {
   "cell_type": "code",
   "execution_count": null,
   "id": "dd45f851",
   "metadata": {},
   "outputs": [],
   "source": [
    "puzzle = Puzzle(2022, 2)\n",
    "lines = puzzle.input_data.split('\\n')"
   ]
  },
  {
   "cell_type": "code",
   "execution_count": null,
   "id": "e3d58445",
   "metadata": {},
   "outputs": [],
   "source": [
    "score = 0\n",
    "for line in lines:\n",
    "    a, b = line.split()\n",
    "    a, b = ord(a) - ord('A'), ord(b) - ord('X')\n",
    "    if a == b:\n",
    "        score += 3\n",
    "    if a == (b+1)%3:\n",
    "        score += 0\n",
    "    if a == (b+2)%3:\n",
    "        score += 6\n",
    "    score += b+1"
   ]
  },
  {
   "cell_type": "code",
   "execution_count": null,
   "id": "b8353de4",
   "metadata": {},
   "outputs": [],
   "source": [
    "puzzle.answer_a = score"
   ]
  },
  {
   "cell_type": "markdown",
   "id": "952f0162",
   "metadata": {},
   "source": [
    "### Part 2"
   ]
  },
  {
   "cell_type": "code",
   "execution_count": null,
   "id": "a37bd845",
   "metadata": {},
   "outputs": [],
   "source": [
    "## Short version\n",
    "score = 0\n",
    "for line in lines:\n",
    "    a, b = line.split()\n",
    "    a, b = ord(a) - ord('A'), ord(b) - ord('X')\n",
    "    score += 3*b + 1 + (a + (b+2) % 3) % 3"
   ]
  },
  {
   "cell_type": "code",
   "execution_count": null,
   "id": "71794267",
   "metadata": {},
   "outputs": [],
   "source": [
    "## Long version\n",
    "score = 0\n",
    "for line in lines:\n",
    "    a, b = line.split()\n",
    "    a, b = ord(a) - ord('A'), ord(b) - ord('X')\n",
    "    \n",
    "    score += 3*(b)\n",
    "\n",
    "    score +=1\n",
    "    if b == 0:\n",
    "        score += (a+2)%3\n",
    "    elif b==1:\n",
    "        score += a\n",
    "    elif b==2:\n",
    "        score += (a+1)%3"
   ]
  },
  {
   "cell_type": "code",
   "execution_count": null,
   "id": "22c8c28e",
   "metadata": {},
   "outputs": [],
   "source": [
    "puzzle.answer_b = score"
   ]
  },
  {
   "cell_type": "markdown",
   "id": "34288441",
   "metadata": {},
   "source": [
    "## Day 1\n",
    "https://adventofcode.com/2022/day/1\n",
    "### Part 1"
   ]
  },
  {
   "cell_type": "code",
   "execution_count": null,
   "id": "95d9a77e",
   "metadata": {},
   "outputs": [],
   "source": [
    "puzzle = Puzzle(2022, 1)"
   ]
  },
  {
   "cell_type": "code",
   "execution_count": null,
   "id": "580613e8",
   "metadata": {},
   "outputs": [],
   "source": [
    "lines = puzzle.input_data.split('\\n\\n')"
   ]
  },
  {
   "cell_type": "code",
   "execution_count": null,
   "id": "b25b6fa7",
   "metadata": {},
   "outputs": [],
   "source": [
    "answer_a = max([sum(int(e) for e in l.split('\\n')) for l in lines])"
   ]
  },
  {
   "cell_type": "code",
   "execution_count": null,
   "id": "947e24cb",
   "metadata": {},
   "outputs": [],
   "source": [
    "puzzle.answer_a = answer_a"
   ]
  },
  {
   "cell_type": "markdown",
   "id": "e915e91c",
   "metadata": {},
   "source": [
    "### Part 2"
   ]
  },
  {
   "cell_type": "code",
   "execution_count": null,
   "id": "37221851",
   "metadata": {},
   "outputs": [],
   "source": [
    "answer_b = sum(sorted([sum(int(e) for e in l.split('\\n')) for l in lines], reverse=True)[:3])"
   ]
  },
  {
   "cell_type": "code",
   "execution_count": null,
   "id": "e9fa6c8e",
   "metadata": {},
   "outputs": [],
   "source": [
    "puzzle.answer_b = answer_b"
   ]
  }
 ],
 "metadata": {
  "kernelspec": {
   "display_name": "Python 3 (ipykernel)",
   "language": "python",
   "name": "python3"
  },
  "language_info": {
   "codemirror_mode": {
    "name": "ipython",
    "version": 3
   },
   "file_extension": ".py",
   "mimetype": "text/x-python",
   "name": "python",
   "nbconvert_exporter": "python",
   "pygments_lexer": "ipython3",
   "version": "3.9.15"
  },
  "toc": {
   "base_numbering": 1,
   "nav_menu": {},
   "number_sections": true,
   "sideBar": true,
   "skip_h1_title": false,
   "title_cell": "Table of Contents",
   "title_sidebar": "Contents",
   "toc_cell": false,
   "toc_position": {},
   "toc_section_display": true,
   "toc_window_display": false
  }
 },
 "nbformat": 4,
 "nbformat_minor": 5
}
