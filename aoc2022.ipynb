{
 "cells": [
  {
   "cell_type": "markdown",
   "id": "427e2937",
   "metadata": {},
   "source": [
    "# AOC 2022\n",
    "\n",
    "Welcome to the Advent of Code 2022 !"
   ]
  },
  {
   "cell_type": "markdown",
   "id": "54252e1e",
   "metadata": {},
   "source": [
    "## Basic configuration"
   ]
  },
  {
   "cell_type": "code",
   "execution_count": null,
   "id": "b7473a09",
   "metadata": {},
   "outputs": [],
   "source": [
    "!pip install aocd"
   ]
  },
  {
   "cell_type": "code",
   "execution_count": null,
   "id": "d1a5c523",
   "metadata": {},
   "outputs": [],
   "source": [
    "import os\n",
    "\n",
    "os.environ['AOC_SESSION'] = open('session.txt').read().strip()\n",
    "\n",
    "from aocd import submit\n",
    "from aocd.models import Puzzle"
   ]
  },
  {
   "cell_type": "markdown",
   "id": "2d64bd35",
   "metadata": {},
   "source": [
    "## Day 2\n",
    "https://adventofcode.com/2022/day/2\n",
    "### Part 1"
   ]
  },
  {
   "cell_type": "code",
   "execution_count": null,
   "id": "dd45f851",
   "metadata": {},
   "outputs": [],
   "source": [
    "puzzle = Puzzle(2022, 2)\n",
    "lines = puzzle.input_data.split('\\n')"
   ]
  },
  {
   "cell_type": "code",
   "execution_count": null,
   "id": "e3d58445",
   "metadata": {},
   "outputs": [],
   "source": [
    "score = 0\n",
    "for line in lines:\n",
    "    a, b = line.split()\n",
    "    a, b = ord(a) - ord('A'), ord(b) - ord('X')\n",
    "    if a == b:\n",
    "        score += 3\n",
    "    if a == (b+1)%3:\n",
    "        score += 0\n",
    "    if a == (b+2)%3:\n",
    "        score += 6\n",
    "    score += b+1"
   ]
  },
  {
   "cell_type": "code",
   "execution_count": null,
   "id": "b8353de4",
   "metadata": {},
   "outputs": [],
   "source": [
    "puzzle.answer_a = score"
   ]
  },
  {
   "cell_type": "markdown",
   "id": "952f0162",
   "metadata": {},
   "source": [
    "### Part 2"
   ]
  },
  {
   "cell_type": "code",
   "execution_count": null,
   "id": "a37bd845",
   "metadata": {},
   "outputs": [],
   "source": [
    "## Short version\n",
    "score = 0\n",
    "for line in lines:\n",
    "    a, b = line.split()\n",
    "    a, b = ord(a) - ord('A'), ord(b) - ord('X')\n",
    "    score += 3*b + 1 + (a + (b+2) % 3) % 3"
   ]
  },
  {
   "cell_type": "code",
   "execution_count": null,
   "id": "71794267",
   "metadata": {},
   "outputs": [],
   "source": [
    "## Long version\n",
    "score = 0\n",
    "for line in lines:\n",
    "    a, b = line.split()\n",
    "    a, b = ord(a) - ord('A'), ord(b) - ord('X')\n",
    "    \n",
    "    score += 3*(b)\n",
    "\n",
    "    score +=1\n",
    "    if b == 0:\n",
    "        score += (a+2)%3\n",
    "    elif b==1:\n",
    "        score += a\n",
    "    elif b==2:\n",
    "        score += (a+1)%3"
   ]
  },
  {
   "cell_type": "code",
   "execution_count": null,
   "id": "22c8c28e",
   "metadata": {},
   "outputs": [],
   "source": [
    "puzzle.answer_b = score"
   ]
  },
  {
   "cell_type": "markdown",
   "id": "34288441",
   "metadata": {},
   "source": [
    "## Day 1\n",
    "https://adventofcode.com/2022/day/1\n",
    "### Part 1"
   ]
  },
  {
   "cell_type": "code",
   "execution_count": null,
   "id": "95d9a77e",
   "metadata": {},
   "outputs": [],
   "source": [
    "puzzle = Puzzle(2022, 1)"
   ]
  },
  {
   "cell_type": "code",
   "execution_count": null,
   "id": "580613e8",
   "metadata": {},
   "outputs": [],
   "source": [
    "lines = puzzle.input_data.split('\\n\\n')"
   ]
  },
  {
   "cell_type": "code",
   "execution_count": null,
   "id": "b25b6fa7",
   "metadata": {},
   "outputs": [],
   "source": [
    "answer_a = max([sum(int(e) for e in l.split('\\n')) for l in lines])"
   ]
  },
  {
   "cell_type": "code",
   "execution_count": null,
   "id": "947e24cb",
   "metadata": {},
   "outputs": [],
   "source": [
    "puzzle.answer_a = answer_a"
   ]
  },
  {
   "cell_type": "markdown",
   "id": "e915e91c",
   "metadata": {},
   "source": [
    "### Part 2"
   ]
  },
  {
   "cell_type": "code",
   "execution_count": null,
   "id": "37221851",
   "metadata": {},
   "outputs": [],
   "source": [
    "answer_b = sum(sorted([sum(int(e) for e in l.split('\\n')) for l in lines], reverse=True)[:3])"
   ]
  },
  {
   "cell_type": "code",
   "execution_count": null,
   "id": "e9fa6c8e",
   "metadata": {},
   "outputs": [],
   "source": [
    "puzzle.answer_b = answer_b"
   ]
  }
 ],
 "metadata": {
  "kernelspec": {
   "display_name": "Python 3 (ipykernel)",
   "language": "python",
   "name": "python3"
  },
  "language_info": {
   "codemirror_mode": {
    "name": "ipython",
    "version": 3
   },
   "file_extension": ".py",
   "mimetype": "text/x-python",
   "name": "python",
   "nbconvert_exporter": "python",
   "pygments_lexer": "ipython3",
   "version": "3.9.15"
  },
  "toc": {
   "base_numbering": 1,
   "nav_menu": {},
   "number_sections": true,
   "sideBar": true,
   "skip_h1_title": false,
   "title_cell": "Table of Contents",
   "title_sidebar": "Contents",
   "toc_cell": false,
   "toc_position": {},
   "toc_section_display": true,
   "toc_window_display": false
  }
 },
 "nbformat": 4,
 "nbformat_minor": 5
}
