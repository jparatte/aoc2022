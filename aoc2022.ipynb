{
 "cells": [
  {
   "cell_type": "markdown",
   "id": "427e2937",
   "metadata": {},
   "source": [
    "# AOC 2022\n",
    "\n",
    "Welcome to the Advent of Code 2022 !"
   ]
  },
  {
   "cell_type": "markdown",
   "id": "54252e1e",
   "metadata": {},
   "source": [
    "## Basic configuration"
   ]
  },
  {
   "cell_type": "code",
   "execution_count": null,
   "id": "b7473a09",
   "metadata": {},
   "outputs": [],
   "source": [
    "!pip install aocd"
   ]
  },
  {
   "cell_type": "code",
   "execution_count": null,
   "id": "d1a5c523",
   "metadata": {},
   "outputs": [],
   "source": [
    "import os\n",
    "\n",
    "os.environ['AOC_SESSION'] = open('session.txt').read().strip()\n",
    "\n",
    "from aocd import submit\n",
    "from aocd.models import Puzzle"
   ]
  },
  {
   "cell_type": "markdown",
   "id": "34288441",
   "metadata": {},
   "source": [
    "## Day 1\n",
    "https://adventofcode.com/2022/day/1\n",
    "### Part 1"
   ]
  },
  {
   "cell_type": "code",
   "execution_count": null,
   "id": "95d9a77e",
   "metadata": {},
   "outputs": [],
   "source": [
    "puzzle = Puzzle(2022, 1)"
   ]
  },
  {
   "cell_type": "code",
   "execution_count": null,
   "id": "580613e8",
   "metadata": {},
   "outputs": [],
   "source": [
    "lines = puzzle.input_data.split('\\n\\n')"
   ]
  },
  {
   "cell_type": "code",
   "execution_count": null,
   "id": "b25b6fa7",
   "metadata": {},
   "outputs": [],
   "source": [
    "answer_a = max([sum(int(e) for e in l.split('\\n')) for l in lines])"
   ]
  },
  {
   "cell_type": "code",
   "execution_count": null,
   "id": "947e24cb",
   "metadata": {},
   "outputs": [],
   "source": [
    "puzzle.answer_a = answer_a"
   ]
  },
  {
   "cell_type": "markdown",
   "id": "e915e91c",
   "metadata": {},
   "source": [
    "### Part 2"
   ]
  },
  {
   "cell_type": "code",
   "execution_count": null,
   "id": "37221851",
   "metadata": {},
   "outputs": [],
   "source": [
    "answer_b = sum(sorted([sum(int(e) for e in l.split('\\n')) for l in lines], reverse=True)[:3])"
   ]
  },
  {
   "cell_type": "code",
   "execution_count": null,
   "id": "e9fa6c8e",
   "metadata": {},
   "outputs": [],
   "source": [
    "puzzle.answer_b = answer_b"
   ]
  },
  {
   "cell_type": "code",
   "execution_count": null,
   "id": "ecf44d85",
   "metadata": {},
   "outputs": [],
   "source": []
  }
 ],
 "metadata": {
  "kernelspec": {
   "display_name": "Python 3 (ipykernel)",
   "language": "python",
   "name": "python3"
  },
  "language_info": {
   "codemirror_mode": {
    "name": "ipython",
    "version": 3
   },
   "file_extension": ".py",
   "mimetype": "text/x-python",
   "name": "python",
   "nbconvert_exporter": "python",
   "pygments_lexer": "ipython3",
   "version": "3.6.13"
  },
  "toc": {
   "base_numbering": 1,
   "nav_menu": {},
   "number_sections": true,
   "sideBar": true,
   "skip_h1_title": false,
   "title_cell": "Table of Contents",
   "title_sidebar": "Contents",
   "toc_cell": false,
   "toc_position": {},
   "toc_section_display": true,
   "toc_window_display": false
  }
 },
 "nbformat": 4,
 "nbformat_minor": 5
}
