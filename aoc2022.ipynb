{
 "cells": [
  {
   "cell_type": "markdown",
   "id": "427e2937",
   "metadata": {},
   "source": [
    "# AOC 2022\n",
    "\n",
    "Welcome to the Advent of Code 2022 !"
   ]
  },
  {
   "cell_type": "markdown",
   "id": "54252e1e",
   "metadata": {},
   "source": [
    "## Basic configuration"
   ]
  },
  {
   "cell_type": "code",
   "execution_count": null,
   "id": "b7473a09",
   "metadata": {},
   "outputs": [],
   "source": [
    "!pip install aocd"
   ]
  },
  {
   "cell_type": "code",
   "execution_count": null,
   "id": "d1a5c523",
   "metadata": {},
   "outputs": [],
   "source": [
    "import os\n",
    "\n",
    "os.environ['AOC_SESSION'] = open('session.txt').read().strip()\n",
    "\n",
    "from aocd import submit\n",
    "from aocd.models import Puzzle"
   ]
  },
  {
   "cell_type": "markdown",
   "id": "11482377",
   "metadata": {},
   "source": [
    "## Day 8\n",
    "https://adventofcode.com/2022/day/8\n",
    "### Part 1"
   ]
  },
  {
   "cell_type": "code",
   "execution_count": null,
   "id": "b7ff94ad",
   "metadata": {},
   "outputs": [],
   "source": [
    "puzzle = Puzzle(2022, 8)\n",
    "lines = puzzle.input_data.split('\\n')"
   ]
  },
  {
   "cell_type": "code",
   "execution_count": null,
   "id": "067dc762",
   "metadata": {},
   "outputs": [],
   "source": [
    "forest = np.array([list(map(int, line)) for line in lines])"
   ]
  },
  {
   "cell_type": "code",
   "execution_count": null,
   "id": "1756b8f3",
   "metadata": {},
   "outputs": [],
   "source": [
    "import numpy as np\n",
    "\n",
    "def visibility(line):\n",
    "    top = -1\n",
    "    mask = []\n",
    "    for item in line:\n",
    "        mask.append(top)\n",
    "        top = max(top, item)\n",
    "    return line > np.array(mask)"
   ]
  },
  {
   "cell_type": "code",
   "execution_count": null,
   "id": "0b6ccbb7",
   "metadata": {},
   "outputs": [],
   "source": [
    "left = np.array([visibility(line) for line in forest])\n",
    "right = np.array([visibility(line[::-1])[::-1] for line in forest])\n",
    "top = np.array([visibility(line) for line in forest.T]).T\n",
    "bottom = np.array([visibility(line[::-1])[::-1] for line in forest.T]).T\n",
    "\n",
    "answer_a = np.sum(left | right | top | bottom)"
   ]
  },
  {
   "cell_type": "code",
   "execution_count": null,
   "id": "2000ee7d",
   "metadata": {},
   "outputs": [],
   "source": [
    "puzzle.answer_a = answer_a"
   ]
  },
  {
   "cell_type": "markdown",
   "id": "5a14b0c2",
   "metadata": {},
   "source": [
    "### Part 2"
   ]
  },
  {
   "cell_type": "code",
   "execution_count": null,
   "id": "e466b9e3",
   "metadata": {},
   "outputs": [],
   "source": [
    "def los(line):\n",
    "    if len(line) < 2:\n",
    "        return 0\n",
    "    \n",
    "    top = line[0]\n",
    "    \n",
    "    for cnt, item in enumerate(line[1:]):\n",
    "        if item >= top:\n",
    "            break\n",
    "    return cnt + 1\n",
    "\n",
    "def viewing_score(x, y):\n",
    "    # left, right, top, bottom\n",
    "    return los(forest[y,x::-1]) * los(forest[y,x:]) * los(forest[y::-1,x]) * los(forest[y:,x])"
   ]
  },
  {
   "cell_type": "code",
   "execution_count": null,
   "id": "c3f240c5",
   "metadata": {},
   "outputs": [],
   "source": [
    "H, W = forest.shape\n",
    "answer_b = max(viewing_score(x, y) for x in range(W) for y in range(H))"
   ]
  },
  {
   "cell_type": "code",
   "execution_count": null,
   "id": "ad14aae9",
   "metadata": {},
   "outputs": [],
   "source": [
    "puzzle.answer_b = answer_b"
   ]
  },
  {
   "cell_type": "markdown",
   "id": "572bf78e",
   "metadata": {},
   "source": [
    "### Extra"
   ]
  },
  {
   "cell_type": "code",
   "execution_count": null,
   "id": "9761c154",
   "metadata": {},
   "outputs": [],
   "source": [
    "from matplotlib import pyplot as plt\n",
    "\n",
    "plt.rcParams[\"figure.figsize\"] = (20,10)\n",
    "\n",
    "fig, (ax1, ax2) = plt.subplots(1, 2)\n",
    "\n",
    "ax1.imshow(forest, cmap='YlGn')\n",
    "ax1.set_title(\"Forest\")\n",
    "\n",
    "ax2.imshow(left | right | top | bottom)\n",
    "ax2.set_title(\"Visible trees\")"
   ]
  },
  {
   "cell_type": "markdown",
   "id": "dd2fa332",
   "metadata": {},
   "source": [
    "## Day 7\n",
    "https://adventofcode.com/2022/day/7\n",
    "### Part 1"
   ]
  },
  {
   "cell_type": "code",
   "execution_count": null,
   "id": "402abd38",
   "metadata": {},
   "outputs": [],
   "source": [
    "puzzle = Puzzle(2022, 7)\n",
    "lines = puzzle.input_data.split('\\n')"
   ]
  },
  {
   "cell_type": "code",
   "execution_count": null,
   "id": "e99e1683",
   "metadata": {},
   "outputs": [],
   "source": [
    "from collections import deque, defaultdict\n",
    "import re\n",
    "import os\n",
    "\n",
    "class File:\n",
    "    \n",
    "    def __init__(self, name_, size_):\n",
    "        self._name = name_\n",
    "        self._size = size_\n",
    "        \n",
    "    def size(self):\n",
    "        return int(self._size)\n",
    "\n",
    "class Directory:\n",
    "    \n",
    "    def __init__(self):\n",
    "        self.dirs = []\n",
    "        self.files = []\n",
    "        \n",
    "    def size(self):\n",
    "        return sum(file_.size() for file_ in self.files) + sum(dir_.size() for dir_ in self.dirs)\n",
    "    "
   ]
  },
  {
   "cell_type": "code",
   "execution_count": null,
   "id": "e3cf02cd",
   "metadata": {},
   "outputs": [],
   "source": [
    "def current_path():\n",
    "    return os.path.join(*list(path))\n",
    "\n",
    "path = deque()\n",
    "inodes = defaultdict(Directory)\n",
    "\n",
    "for line in lines:\n",
    "    if line[0] == '$':\n",
    "        cmd = line[2:]\n",
    "        if cmd[:2] == 'cd':\n",
    "            loc = cmd[3:]\n",
    "            if loc == '..':\n",
    "                path.pop()\n",
    "            else:\n",
    "                path.append(loc)\n",
    "    else:\n",
    "        cur_path = current_path()\n",
    "\n",
    "        if line[:3] == 'dir':\n",
    "            dir_path = os.path.join(cur_path, line[4:])\n",
    "            inodes[cur_path].dirs.append(inodes[dir_path])\n",
    "        else:\n",
    "            inodes[cur_path].files.append(File(*line.split()[::-1]))"
   ]
  },
  {
   "cell_type": "code",
   "execution_count": null,
   "id": "06b01c15",
   "metadata": {},
   "outputs": [],
   "source": [
    "answer_a = sum(dir_.size() for dir_ in inodes.values() if dir_.size() <= 100000)"
   ]
  },
  {
   "cell_type": "code",
   "execution_count": null,
   "id": "bbca4b16",
   "metadata": {},
   "outputs": [],
   "source": [
    "puzzle.answer_a = answer_a"
   ]
  },
  {
   "cell_type": "markdown",
   "id": "c72cbdaf",
   "metadata": {},
   "source": [
    "### Part 2"
   ]
  },
  {
   "cell_type": "code",
   "execution_count": null,
   "id": "7704975a",
   "metadata": {},
   "outputs": [],
   "source": [
    "total_space = 70000000\n",
    "target_free_space = 30000000\n",
    "\n",
    "min_space_to_free = target_free_space - (total_space - inodes['/'].size())"
   ]
  },
  {
   "cell_type": "code",
   "execution_count": null,
   "id": "5ce97ef4",
   "metadata": {},
   "outputs": [],
   "source": [
    "answer_b = min(dir_.size() for dir_ in inodes.values() if dir_.size() >= min_space_to_free)"
   ]
  },
  {
   "cell_type": "code",
   "execution_count": null,
   "id": "5175c7a7",
   "metadata": {},
   "outputs": [],
   "source": [
    "puzzle.answer_b = answer_b"
   ]
  },
  {
   "cell_type": "markdown",
   "id": "eeae3a92",
   "metadata": {},
   "source": [
    "### Part 2"
   ]
  },
  {
   "cell_type": "markdown",
   "id": "c401a747",
   "metadata": {},
   "source": [
    "## Day 6\n",
    "https://adventofcode.com/2022/day/6\n",
    "### Part 1"
   ]
  },
  {
   "cell_type": "code",
   "execution_count": null,
   "id": "54112cbc",
   "metadata": {},
   "outputs": [],
   "source": [
    "puzzle = Puzzle(2022, 6)\n",
    "lines = puzzle.input_data.split('\\n')"
   ]
  },
  {
   "cell_type": "code",
   "execution_count": null,
   "id": "cd5c1ef1",
   "metadata": {},
   "outputs": [],
   "source": [
    "line = lines[0]\n",
    "for pos in range(4,len(line)):\n",
    "    if len(set(line[pos-4:pos])) == 4:\n",
    "        break"
   ]
  },
  {
   "cell_type": "code",
   "execution_count": null,
   "id": "94199bd3",
   "metadata": {},
   "outputs": [],
   "source": [
    "puzzle.answer_a = pos"
   ]
  },
  {
   "cell_type": "markdown",
   "id": "8ca252ef",
   "metadata": {},
   "source": [
    "### Part 2"
   ]
  },
  {
   "cell_type": "code",
   "execution_count": null,
   "id": "9d11c1e4",
   "metadata": {},
   "outputs": [],
   "source": [
    "line = lines[0]\n",
    "for pos in range(14,len(line)):\n",
    "    if len(set(line[pos-14:pos])) == 14:\n",
    "        break"
   ]
  },
  {
   "cell_type": "code",
   "execution_count": null,
   "id": "d3d4aabd",
   "metadata": {},
   "outputs": [],
   "source": [
    "puzzle.answer_b = pos"
   ]
  },
  {
   "cell_type": "markdown",
   "id": "c0f4c730",
   "metadata": {},
   "source": [
    "## Day 5\n",
    "https://adventofcode.com/2022/day/5\n",
    "### Part 1"
   ]
  },
  {
   "cell_type": "code",
   "execution_count": null,
   "id": "74585132",
   "metadata": {},
   "outputs": [],
   "source": [
    "puzzle = Puzzle(2022, 5)\n",
    "lines = puzzle.input_data.split('\\n')"
   ]
  },
  {
   "cell_type": "code",
   "execution_count": null,
   "id": "a27432bf",
   "metadata": {},
   "outputs": [],
   "source": [
    "from collections import deque, defaultdict\n",
    "import re\n",
    "\n",
    "def init_crates(lines):\n",
    "    crates = defaultdict(deque)\n",
    "\n",
    "    for offset, line in enumerate(lines):\n",
    "        if line[1] == '1':\n",
    "            break\n",
    "        for idx, elem in enumerate(line[1::4]):\n",
    "            if elem != ' ':\n",
    "                crates[idx].appendleft(elem)\n",
    "    \n",
    "    instructions = []\n",
    "\n",
    "    for line in lines[offset+2:]:\n",
    "        m = re.match(r\"move (\\d+) from (\\d+) to (\\d+)\", line)\n",
    "        instructions.append(tuple(map(int, m.groups())))\n",
    "    \n",
    "    return crates, instructions"
   ]
  },
  {
   "cell_type": "code",
   "execution_count": null,
   "id": "37703e75",
   "metadata": {},
   "outputs": [],
   "source": [
    "crates, instructions = init_crates(lines)\n",
    "\n",
    "for nb, src, dst in instructions:\n",
    "    crates[dst-1].extend([crates[src-1].pop() for i in range(nb)])"
   ]
  },
  {
   "cell_type": "code",
   "execution_count": null,
   "id": "4b0f6629",
   "metadata": {},
   "outputs": [],
   "source": [
    "answer_a = ''.join([crates[idx][-1] for idx in range(9)])"
   ]
  },
  {
   "cell_type": "code",
   "execution_count": null,
   "id": "6f2596bf",
   "metadata": {},
   "outputs": [],
   "source": [
    "puzzle.answer_a = answer_a"
   ]
  },
  {
   "cell_type": "markdown",
   "id": "e5472d49",
   "metadata": {},
   "source": [
    "### Part 2"
   ]
  },
  {
   "cell_type": "code",
   "execution_count": null,
   "id": "0d6b8556",
   "metadata": {},
   "outputs": [],
   "source": [
    "crates, instructions = init_crates(lines)\n",
    "\n",
    "for nb, src, dst in instructions:\n",
    "    crates[dst-1].extend([crates[src-1].pop() for i in range(nb)][::-1])"
   ]
  },
  {
   "cell_type": "code",
   "execution_count": null,
   "id": "8cacd4a6",
   "metadata": {},
   "outputs": [],
   "source": [
    "answer_b = ''.join([crates[idx][-1] for idx in range(9)])"
   ]
  },
  {
   "cell_type": "code",
   "execution_count": null,
   "id": "93f87724",
   "metadata": {},
   "outputs": [],
   "source": [
    "puzzle.answer_b = answer_b"
   ]
  },
  {
   "cell_type": "markdown",
   "id": "a5012c11",
   "metadata": {},
   "source": [
    "## Day 4\n",
    "https://adventofcode.com/2022/day/4\n",
    "### Part 1"
   ]
  },
  {
   "cell_type": "code",
   "execution_count": null,
   "id": "cec33e4f",
   "metadata": {},
   "outputs": [],
   "source": [
    "puzzle = Puzzle(2022, 4)\n",
    "lines = puzzle.input_data.split('\\n')"
   ]
  },
  {
   "cell_type": "code",
   "execution_count": null,
   "id": "66d488ef",
   "metadata": {},
   "outputs": [],
   "source": [
    "ranges = []\n",
    "for l in lines:\n",
    "    pair = []\n",
    "    for r in l.split(','):\n",
    "        a, b = map(int, r.split('-'))\n",
    "        pair.append(set(range(a,b+1)))\n",
    "    ranges.append(pair)"
   ]
  },
  {
   "cell_type": "code",
   "execution_count": null,
   "id": "660b86c2",
   "metadata": {},
   "outputs": [],
   "source": [
    "answer_a = len([r1 for r1, r2 in ranges if (r1 <= r2) or (r2 <= r1)])"
   ]
  },
  {
   "cell_type": "code",
   "execution_count": null,
   "id": "ad9d587e",
   "metadata": {},
   "outputs": [],
   "source": [
    "puzzle.answer_a = answer_a"
   ]
  },
  {
   "cell_type": "markdown",
   "id": "b85d8f3e",
   "metadata": {},
   "source": [
    "### Part 2"
   ]
  },
  {
   "cell_type": "code",
   "execution_count": null,
   "id": "96272306",
   "metadata": {},
   "outputs": [],
   "source": [
    "answer_b = len([r1 for r1, r2 in ranges if r1 & r2])"
   ]
  },
  {
   "cell_type": "code",
   "execution_count": null,
   "id": "ec24ad63",
   "metadata": {},
   "outputs": [],
   "source": [
    "puzzle.answer_b = answer_b"
   ]
  },
  {
   "cell_type": "markdown",
   "id": "491136e8",
   "metadata": {},
   "source": [
    "## Day 3\n",
    "https://adventofcode.com/2022/day/3\n",
    "### Part 1"
   ]
  },
  {
   "cell_type": "code",
   "execution_count": null,
   "id": "25cdde1b",
   "metadata": {},
   "outputs": [],
   "source": [
    "puzzle = Puzzle(2022, 3)\n",
    "lines = puzzle.input_data.split('\\n')"
   ]
  },
  {
   "cell_type": "code",
   "execution_count": null,
   "id": "464236f8",
   "metadata": {},
   "outputs": [],
   "source": [
    "from collections import Counter\n",
    "\n",
    "sacks = [(Counter(l[:len(l)//2]), Counter(l[len(l)//2:])) for l in lines]"
   ]
  },
  {
   "cell_type": "code",
   "execution_count": null,
   "id": "fa2cb275",
   "metadata": {},
   "outputs": [],
   "source": [
    "def prio(c):\n",
    "    if c.islower():\n",
    "        return ord(c) - ord('a') + 1\n",
    "    return ord(c) - ord('A') + 27\n",
    "\n",
    "answer_a = sum(prio(list(s[0].keys() & s[1].keys())[0]) for s in sacks)"
   ]
  },
  {
   "cell_type": "code",
   "execution_count": null,
   "id": "21cac31d",
   "metadata": {},
   "outputs": [],
   "source": [
    "puzzle.answer_a = answer_a"
   ]
  },
  {
   "cell_type": "markdown",
   "id": "6c168721",
   "metadata": {},
   "source": [
    "### Part 2"
   ]
  },
  {
   "cell_type": "code",
   "execution_count": null,
   "id": "c434accd",
   "metadata": {},
   "outputs": [],
   "source": [
    "sacks = [Counter(l) for l in lines]\n",
    "\n",
    "answer_b = sum([prio(list(sacks[i].keys() & sacks[i+1].keys() & sacks[i+2].keys())[0]) for i in range(0, len(sacks), 3)])"
   ]
  },
  {
   "cell_type": "code",
   "execution_count": null,
   "id": "9ced7344",
   "metadata": {},
   "outputs": [],
   "source": [
    "puzzle.answer_b = answer_b"
   ]
  },
  {
   "cell_type": "markdown",
   "id": "2d64bd35",
   "metadata": {},
   "source": [
    "## Day 2\n",
    "https://adventofcode.com/2022/day/2\n",
    "### Part 1"
   ]
  },
  {
   "cell_type": "code",
   "execution_count": null,
   "id": "dd45f851",
   "metadata": {},
   "outputs": [],
   "source": [
    "puzzle = Puzzle(2022, 2)\n",
    "lines = puzzle.input_data.split('\\n')"
   ]
  },
  {
   "cell_type": "code",
   "execution_count": null,
   "id": "e3d58445",
   "metadata": {},
   "outputs": [],
   "source": [
    "score = 0\n",
    "for line in lines:\n",
    "    a, b = line.split()\n",
    "    a, b = ord(a) - ord('A'), ord(b) - ord('X')\n",
    "    if a == b:\n",
    "        score += 3\n",
    "    if a == (b+1)%3:\n",
    "        score += 0\n",
    "    if a == (b+2)%3:\n",
    "        score += 6\n",
    "    score += b+1"
   ]
  },
  {
   "cell_type": "code",
   "execution_count": null,
   "id": "b8353de4",
   "metadata": {},
   "outputs": [],
   "source": [
    "puzzle.answer_a = score"
   ]
  },
  {
   "cell_type": "markdown",
   "id": "952f0162",
   "metadata": {},
   "source": [
    "### Part 2"
   ]
  },
  {
   "cell_type": "code",
   "execution_count": null,
   "id": "a37bd845",
   "metadata": {},
   "outputs": [],
   "source": [
    "## Short version\n",
    "score = 0\n",
    "for line in lines:\n",
    "    a, b = line.split()\n",
    "    a, b = ord(a) - ord('A'), ord(b) - ord('X')\n",
    "    score += 3*b + 1 + (a + (b+2) % 3) % 3"
   ]
  },
  {
   "cell_type": "code",
   "execution_count": null,
   "id": "71794267",
   "metadata": {},
   "outputs": [],
   "source": [
    "## Long version\n",
    "score = 0\n",
    "for line in lines:\n",
    "    a, b = line.split()\n",
    "    a, b = ord(a) - ord('A'), ord(b) - ord('X')\n",
    "    \n",
    "    score += 3*(b)\n",
    "\n",
    "    score +=1\n",
    "    if b == 0:\n",
    "        score += (a+2)%3\n",
    "    elif b==1:\n",
    "        score += a\n",
    "    elif b==2:\n",
    "        score += (a+1)%3"
   ]
  },
  {
   "cell_type": "code",
   "execution_count": null,
   "id": "22c8c28e",
   "metadata": {},
   "outputs": [],
   "source": [
    "puzzle.answer_b = score"
   ]
  },
  {
   "cell_type": "markdown",
   "id": "34288441",
   "metadata": {},
   "source": [
    "## Day 1\n",
    "https://adventofcode.com/2022/day/1\n",
    "### Part 1"
   ]
  },
  {
   "cell_type": "code",
   "execution_count": null,
   "id": "95d9a77e",
   "metadata": {},
   "outputs": [],
   "source": [
    "puzzle = Puzzle(2022, 1)"
   ]
  },
  {
   "cell_type": "code",
   "execution_count": null,
   "id": "580613e8",
   "metadata": {},
   "outputs": [],
   "source": [
    "lines = puzzle.input_data.split('\\n\\n')"
   ]
  },
  {
   "cell_type": "code",
   "execution_count": null,
   "id": "b25b6fa7",
   "metadata": {},
   "outputs": [],
   "source": [
    "answer_a = max([sum(int(e) for e in l.split('\\n')) for l in lines])"
   ]
  },
  {
   "cell_type": "code",
   "execution_count": null,
   "id": "947e24cb",
   "metadata": {},
   "outputs": [],
   "source": [
    "puzzle.answer_a = answer_a"
   ]
  },
  {
   "cell_type": "markdown",
   "id": "e915e91c",
   "metadata": {},
   "source": [
    "### Part 2"
   ]
  },
  {
   "cell_type": "code",
   "execution_count": null,
   "id": "37221851",
   "metadata": {},
   "outputs": [],
   "source": [
    "answer_b = sum(sorted([sum(int(e) for e in l.split('\\n')) for l in lines], reverse=True)[:3])"
   ]
  },
  {
   "cell_type": "code",
   "execution_count": null,
   "id": "e9fa6c8e",
   "metadata": {},
   "outputs": [],
   "source": [
    "puzzle.answer_b = answer_b"
   ]
  }
 ],
 "metadata": {
  "kernelspec": {
   "display_name": "Python 3 (ipykernel)",
   "language": "python",
   "name": "python3"
  },
  "language_info": {
   "codemirror_mode": {
    "name": "ipython",
    "version": 3
   },
   "file_extension": ".py",
   "mimetype": "text/x-python",
   "name": "python",
   "nbconvert_exporter": "python",
   "pygments_lexer": "ipython3",
   "version": "3.9.15"
  },
  "toc": {
   "base_numbering": 1,
   "nav_menu": {},
   "number_sections": true,
   "sideBar": true,
   "skip_h1_title": false,
   "title_cell": "Table of Contents",
   "title_sidebar": "Contents",
   "toc_cell": false,
   "toc_position": {},
   "toc_section_display": true,
   "toc_window_display": false
  }
 },
 "nbformat": 4,
 "nbformat_minor": 5
}
